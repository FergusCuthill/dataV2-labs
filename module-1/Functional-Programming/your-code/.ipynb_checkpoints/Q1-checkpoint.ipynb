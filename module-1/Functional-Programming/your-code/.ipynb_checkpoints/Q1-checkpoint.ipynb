{
 "cells": [
  {
   "cell_type": "markdown",
   "metadata": {},
   "source": [
    "In the cell below, create a Python function that creates a Bag of Words.\n",
    "\n",
    "Requirements:\n",
    "\n",
    "1. Your function should accept the following parameters:\n",
    "    * `corpus` [REQUIRED] - list of strings.\n",
    "    * `stop_words` [OPTIONAL] - array of stop words. The default value is an empty array.\n",
    "\n",
    "1. Your function should return a Python object that contains the following:\n",
    "    * `bag_of_words` - array of strings of normalized unique words in the corpus.\n",
    "    * `term_freq` - array of the term-frequency vectors."
   ]
  },
  {
   "cell_type": "code",
   "execution_count": 105,
   "metadata": {},
   "outputs": [],
   "source": [
    "# Import required libraries\n",
    "import re\n",
    "\n",
    "# Define function\n",
    "def get_bow_from_docs(corpus, stop_words=[]):\n",
    "    bag_of_words = {}\n",
    "    term_freq = []\n",
    "    # Create list with a sublist for each sentence and remove unwanted characters\n",
    "    corpus = [re.sub(\"[^\\s\\w]\",\"\", i).lower().split() for i in corpus]\n",
    "    # Extract list of unique words\n",
    "    unique_words = list(set([i for j in corpus for i in j])-set(stop_words))\n",
    "    bag_of_words[\"bag_of_words\"] = unique_words\n",
    "    # Create list to put frequencies in\n",
    "    term_freq = [[0 for j in unique_words] for i in corpus]\n",
    "    # Populate frequencies\n",
    "    freq = 0\n",
    "    for i in range(len(term_freq)):\n",
    "        for j in range(len(term_freq[i])):\n",
    "            for k in corpus[i]:\n",
    "                if k == unique_words[j]:\n",
    "                    freq += 1\n",
    "            term_freq[i][j] = freq\n",
    "            freq = 0\n",
    "\n",
    "    bag_of_words[\"Term Freq\"] = term_freq\n",
    "    return bag_of_words\n",
    "\n",
    "\n",
    "\n",
    "#     \"\"\"\n",
    "#     Convert corpus to lowercases and remove punctuation.\n",
    "#     \"\"\"\n",
    "\n",
    "    \n",
    "    \n",
    "#     \"\"\"\n",
    "#     Loop `corpus`. Append the individual words in each doc into the `bag_of_words` array. The terms in `bag_of_words` \n",
    "#     should be unique which means before adding each term you need to check if it's already added to the array.\n",
    "#     In addition, check if each term is in the `stop_words` array. Only append the term to `bag_of_words`\n",
    "#     if it is not a stop word.\n",
    "#     \"\"\"\n",
    "\n",
    "    \n",
    "    \n",
    "    \n",
    "#     \"\"\"\n",
    "#     Loop `corpus` again. For each doc string, count the number of occurrences of each term in `bag_of_words`. \n",
    "#     Create an array for each doc's term frequency and append it to `term_freq`.\n",
    "#     \"\"\"\n",
    "\n",
    "    \n",
    "    \n",
    "    # Now return your output as an object\n",
    "#     return {\n",
    "#         \"bag_of_words\": bag_of_words,\n",
    "#         \"term_freq\": term_freq\n",
    "#    }\n",
    "    "
   ]
  },
  {
   "cell_type": "markdown",
   "metadata": {},
   "source": [
    "Test your function without stop words. You should see the output like below:\n",
    "\n",
    "```{'bag_of_words': ['ironhack', 'is', 'cool', 'i', 'love', 'am', 'a', 'student', 'at'], 'term_freq': [[1, 1, 1, 0, 0, 0, 0, 0, 0], [1, 0, 0, 1, 1, 0, 0, 0, 0], [1, 0, 0, 1, 0, 1, 1, 1, 1]]}```"
   ]
  },
  {
   "cell_type": "code",
   "execution_count": 107,
   "metadata": {},
   "outputs": [
    {
     "name": "stdout",
     "output_type": "stream",
     "text": [
      "{'bag_of_words': ['student', 'i', 'is', 'love', 'ironhack', 'at', 'cool', 'am', 'a'], 'Term Freq': [[0, 0, 1, 0, 1, 0, 1, 0, 0], [0, 1, 0, 1, 1, 0, 0, 0, 0], [1, 1, 0, 0, 1, 1, 0, 1, 1]]}\n"
     ]
    }
   ],
   "source": [
    "# Define the corpus list\n",
    "a_corpus = ['Ironhack is Cool!', 'I love Ironhack', 'I am a student at Ironhack.']\n",
    "\n",
    "# Obtain BoW from your function\n",
    "bow = get_bow_from_docs(a_corpus)\n",
    "\n",
    "# Print BoW\n",
    "print(bow)"
   ]
  },
  {
   "cell_type": "markdown",
   "metadata": {},
   "source": [
    "If your attempt above is successful, nice work done!\n",
    "\n",
    "Now test your function again with the stop words. In the previous lab we defined the stop words in a large array. In this lab, we'll import the stop words from Scikit-Learn."
   ]
  },
  {
   "cell_type": "code",
   "execution_count": 83,
   "metadata": {},
   "outputs": [
    {
     "name": "stdout",
     "output_type": "stream",
     "text": [
      "frozenset({'move', 'sometime', 'front', 'indeed', 'fire', 'an', 'against', 'in', 'inc', 'anyway', 'its', 'fill', 'within', 'without', 'meanwhile', 'only', 'sincere', 'everyone', 'thereby', 'becomes', 'could', 'seem', 'side', 're', 'beyond', 'mostly', 'as', 'been', 'afterwards', 'our', 'bill', 'first', 'among', 'whom', 'amongst', 'herself', 'your', 'hereby', 'nowhere', 'ltd', 'yours', 'each', 'ourselves', 'ours', 'somewhere', 'before', 'although', 'the', 'of', 'empty', 'show', 'be', 'with', 'was', 'name', 'there', 'can', 'amount', 'during', 'everything', 'put', 'she', 'keep', 'a', 'several', 'three', 'towards', 'behind', 'thick', 'me', 'every', 'mine', 'would', 'but', 'else', 'after', 'one', 'at', 'do', 'both', 'her', 'interest', 'across', 'becoming', 'hereafter', 'might', 'thin', 'least', 'between', 'please', 'therefore', 'alone', 'co', 'under', 'must', 'when', 'him', 'being', 'formerly', 'have', 'hence', 'eleven', 'fifteen', 'another', 'their', 'eg', 'twelve', 'out', 'he', 'five', 'why', 'etc', 'via', 'if', 'seeming', 'too', 'anywhere', 'something', 'elsewhere', 'further', 'yourself', 'them', 'on', 'almost', 'always', 'onto', 'ten', 'next', 'seems', 'it', 'thereafter', 'more', 'or', 'seemed', 'see', 'either', 'never', 'nobody', 'con', 'get', 'for', 'ie', 'six', 'others', 'this', 'up', 'since', 'no', 'whether', 'us', 'full', 'ever', 'toward', 'find', 'go', 'whereby', 'de', 'none', 'serious', 'these', 'many', 'and', 'throughout', 'neither', 'all', 'couldnt', 'here', 'around', 'most', 'off', 'you', 'were', 'cry', 'below', 'become', 'such', 'may', 'nine', 'because', 'namely', 'again', 'became', 'thru', 'now', 'not', 'otherwise', 'am', 'already', 'latterly', 'about', 'noone', 'whereupon', 'well', 'give', 'less', 'often', 'describe', 'therein', 'twenty', 'former', 'bottom', 'very', 'that', 'few', 'perhaps', 'thus', 'i', 'third', 'which', 'own', 'through', 'thence', 'still', 'due', 'wherever', 'amoungst', 'two', 'nothing', 'those', 'upon', 'whenever', 'back', 'beforehand', 'everywhere', 'then', 'forty', 'mill', 'whereafter', 'hereupon', 'enough', 'anything', 'once', 'except', 'hers', 'to', 'are', 'yet', 'his', 'besides', 'somehow', 'whoever', 'themselves', 'anyone', 'above', 'sixty', 'whence', 'cannot', 'together', 'whereas', 'found', 'my', 'same', 'whither', 'will', 'himself', 'whatever', 'moreover', 'eight', 'detail', 'also', 'even', 'herein', 'had', 'any', 'call', 'from', 'over', 'by', 'than', 'made', 'someone', 'into', 'has', 'beside', 'thereupon', 'whole', 'anyhow', 'though', 'yourselves', 'where', 'per', 'what', 'some', 'hundred', 'how', 'down', 'until', 'take', 'system', 'wherein', 'nor', 'last', 'sometimes', 'while', 'rather', 'however', 'part', 'done', 'hasnt', 'fifty', 'four', 'itself', 'should', 'un', 'along', 'cant', 'nevertheless', 'other', 'top', 'much', 'whose', 'who', 'is', 'latter', 'myself', 'we', 'they', 'so'})\n"
     ]
    },
    {
     "name": "stderr",
     "output_type": "stream",
     "text": [
      "C:\\Users\\fergu\\anaconda3\\lib\\site-packages\\sklearn\\utils\\deprecation.py:144: FutureWarning: The sklearn.feature_extraction.stop_words module is  deprecated in version 0.22 and will be removed in version 0.24. The corresponding classes / functions should instead be imported from sklearn.feature_extraction.text. Anything that cannot be imported from sklearn.feature_extraction.text is now part of the private API.\n",
      "  warnings.warn(message, FutureWarning)\n"
     ]
    }
   ],
   "source": [
    "from sklearn.feature_extraction import stop_words\n",
    "print(stop_words.ENGLISH_STOP_WORDS)"
   ]
  },
  {
   "cell_type": "markdown",
   "metadata": {},
   "source": [
    "You should have seen a large list of words that looks like:\n",
    "\n",
    "```frozenset({'across', 'mine', 'cannot', ...})```\n",
    "\n",
    "`frozenset` is a type of Python object that is immutable. In this lab you can use it just like an array (list) without conversion."
   ]
  },
  {
   "cell_type": "markdown",
   "metadata": {},
   "source": [
    "Next, test your function with supplying `stop_words.ENGLISH_STOP_WORDS` as the second parameter."
   ]
  },
  {
   "cell_type": "code",
   "execution_count": 106,
   "metadata": {},
   "outputs": [
    {
     "name": "stdout",
     "output_type": "stream",
     "text": [
      "{'bag_of_words': ['student', 'ironhack', 'cool', 'love'], 'Term Freq': [[0, 1, 1, 0], [0, 1, 0, 1], [1, 1, 0, 0]]}\n"
     ]
    }
   ],
   "source": [
    "bow = get_bow_from_docs(a_corpus, stop_words.ENGLISH_STOP_WORDS)\n",
    "\n",
    "print(bow)"
   ]
  },
  {
   "cell_type": "markdown",
   "metadata": {},
   "source": [
    "You should have seen:\n",
    "\n",
    "```{'bag_of_words': ['ironhack', 'cool', 'love', 'student'], 'term_freq': [[1, 1, 0, 0], [1, 0, 1, 0], [1, 0, 0, 1]]}```"
   ]
  },
  {
   "cell_type": "code",
   "execution_count": null,
   "metadata": {},
   "outputs": [],
   "source": []
  }
 ],
 "metadata": {
  "kernelspec": {
   "display_name": "Python 3",
   "language": "python",
   "name": "python3"
  },
  "language_info": {
   "codemirror_mode": {
    "name": "ipython",
    "version": 3
   },
   "file_extension": ".py",
   "mimetype": "text/x-python",
   "name": "python",
   "nbconvert_exporter": "python",
   "pygments_lexer": "ipython3",
   "version": "3.7.6"
  }
 },
 "nbformat": 4,
 "nbformat_minor": 2
}
