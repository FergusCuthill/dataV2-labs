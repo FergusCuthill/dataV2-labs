{
 "cells": [
  {
   "cell_type": "markdown",
   "metadata": {},
   "source": [
    "# Introduction to NumPy\n",
    "\n",
    "\n",
    "#### 1. Import NumPy under the name np."
   ]
  },
  {
   "cell_type": "code",
   "execution_count": 12,
   "metadata": {},
   "outputs": [],
   "source": [
    "# your code here\n",
    "import numpy as np"
   ]
  },
  {
   "cell_type": "markdown",
   "metadata": {},
   "source": [
    "#### 2. Print your NumPy version."
   ]
  },
  {
   "cell_type": "code",
   "execution_count": 13,
   "metadata": {},
   "outputs": [
    {
     "name": "stdout",
     "output_type": "stream",
     "text": [
      "1.18.1\n"
     ]
    }
   ],
   "source": [
    "# your code here\n",
    "print(np.__version__)"
   ]
  },
  {
   "cell_type": "markdown",
   "metadata": {},
   "source": [
    "#### 3. Generate a 2x3x5 3-dimensional array with random values. Assign the array to variable *a*.\n",
    "**Challenge**: there are at least three easy ways that use numpy to generate random arrays. How many ways can you find?"
   ]
  },
  {
   "cell_type": "code",
   "execution_count": 14,
   "metadata": {},
   "outputs": [
    {
     "name": "stdout",
     "output_type": "stream",
     "text": [
      "[[[0.22556275 0.34098311 0.92019371 0.1925663  0.00774511]\n",
      "  [0.31339516 0.89433166 0.61809669 0.93542269 0.25153264]\n",
      "  [0.77959341 0.17525901 0.43602112 0.76868672 0.45774682]]\n",
      "\n",
      " [[0.99175471 0.38077442 0.40587927 0.62090379 0.46580209]\n",
      "  [0.66400916 0.0312072  0.65624004 0.79143411 0.16234676]\n",
      "  [0.05138468 0.64736371 0.28024343 0.80359866 0.18485594]]]\n"
     ]
    }
   ],
   "source": [
    "# Method 1\n",
    "a = np.random.random((2,3,5))\n",
    "print(a)"
   ]
  },
  {
   "cell_type": "code",
   "execution_count": 15,
   "metadata": {},
   "outputs": [
    {
     "name": "stdout",
     "output_type": "stream",
     "text": [
      "[[[3 0 2 1 2]\n",
      "  [0 0 2 1 4]\n",
      "  [2 1 1 1 3]]\n",
      "\n",
      " [[1 3 4 3 1]\n",
      "  [1 2 0 0 4]\n",
      "  [0 0 3 1 4]]]\n"
     ]
    }
   ],
   "source": [
    "# Method 2\n",
    "b = np.random.randint(0,5, (2,3,5))\n",
    "print(b)"
   ]
  },
  {
   "cell_type": "code",
   "execution_count": 16,
   "metadata": {},
   "outputs": [
    {
     "name": "stdout",
     "output_type": "stream",
     "text": [
      "[[[0.25859285 0.92147918 0.32084005 0.71020869 0.36937443]\n",
      "  [0.10237953 0.1934936  0.15777479 0.25532725 0.73174673]\n",
      "  [0.07280277 0.75087074 0.76484045 0.6808569  0.74487304]]\n",
      "\n",
      " [[0.12397962 0.93983707 0.97197585 0.5596476  0.0537833 ]\n",
      "  [0.60866001 0.39985129 0.77047678 0.56253252 0.00491431]\n",
      "  [0.70805403 0.32067469 0.67051085 0.38718614 0.66772077]]]\n"
     ]
    }
   ],
   "source": [
    "# Method 3\n",
    "import random\n",
    "c = np.array([[[random.random() for k in range(5)] for j in range(3)] for i in range(2)])\n",
    "print(c)"
   ]
  },
  {
   "cell_type": "markdown",
   "metadata": {},
   "source": [
    "#### 4. Print *a*.\n"
   ]
  },
  {
   "cell_type": "code",
   "execution_count": 17,
   "metadata": {},
   "outputs": [
    {
     "name": "stdout",
     "output_type": "stream",
     "text": [
      "[[[0.22556275 0.34098311 0.92019371 0.1925663  0.00774511]\n",
      "  [0.31339516 0.89433166 0.61809669 0.93542269 0.25153264]\n",
      "  [0.77959341 0.17525901 0.43602112 0.76868672 0.45774682]]\n",
      "\n",
      " [[0.99175471 0.38077442 0.40587927 0.62090379 0.46580209]\n",
      "  [0.66400916 0.0312072  0.65624004 0.79143411 0.16234676]\n",
      "  [0.05138468 0.64736371 0.28024343 0.80359866 0.18485594]]]\n"
     ]
    }
   ],
   "source": [
    "# your code here\n",
    "print(a)"
   ]
  },
  {
   "cell_type": "markdown",
   "metadata": {},
   "source": [
    "#### 5. Create a 5x2x3 3-dimensional array with all values equaling 1. Assign the array to variable *b*."
   ]
  },
  {
   "cell_type": "code",
   "execution_count": 18,
   "metadata": {},
   "outputs": [],
   "source": [
    "# your code here\n",
    "b = np.ones((5,2,3))"
   ]
  },
  {
   "cell_type": "markdown",
   "metadata": {},
   "source": [
    "#### 6. Print *b*.\n"
   ]
  },
  {
   "cell_type": "code",
   "execution_count": 19,
   "metadata": {},
   "outputs": [
    {
     "name": "stdout",
     "output_type": "stream",
     "text": [
      "[[[1. 1. 1.]\n",
      "  [1. 1. 1.]]\n",
      "\n",
      " [[1. 1. 1.]\n",
      "  [1. 1. 1.]]\n",
      "\n",
      " [[1. 1. 1.]\n",
      "  [1. 1. 1.]]\n",
      "\n",
      " [[1. 1. 1.]\n",
      "  [1. 1. 1.]]\n",
      "\n",
      " [[1. 1. 1.]\n",
      "  [1. 1. 1.]]]\n"
     ]
    }
   ],
   "source": [
    "# your code here\n",
    "print(b)"
   ]
  },
  {
   "cell_type": "markdown",
   "metadata": {},
   "source": [
    "#### 7. Do *a* and *b* have the same size? How do you prove that in Python code?"
   ]
  },
  {
   "cell_type": "code",
   "execution_count": 20,
   "metadata": {},
   "outputs": [
    {
     "data": {
      "text/plain": [
       "True"
      ]
     },
     "execution_count": 20,
     "metadata": {},
     "output_type": "execute_result"
    }
   ],
   "source": [
    "# your code here\n",
    "len(a)*len(a[0])*len(a[0,0]) == len(b)*len(b[0])*len(b[0,0])"
   ]
  },
  {
   "cell_type": "markdown",
   "metadata": {},
   "source": [
    "#### 8. Are you able to add *a* and *b*? Why or why not?\n"
   ]
  },
  {
   "cell_type": "code",
   "execution_count": 21,
   "metadata": {},
   "outputs": [
    {
     "ename": "ValueError",
     "evalue": "operands could not be broadcast together with shapes (2,3,5) (5,2,3) ",
     "output_type": "error",
     "traceback": [
      "\u001b[1;31m---------------------------------------------------------------------------\u001b[0m",
      "\u001b[1;31mValueError\u001b[0m                                Traceback (most recent call last)",
      "\u001b[1;32m<ipython-input-21-37cbd8d1ac3d>\u001b[0m in \u001b[0;36m<module>\u001b[1;34m\u001b[0m\n\u001b[0;32m      1\u001b[0m \u001b[1;31m# your answer here\u001b[0m\u001b[1;33m\u001b[0m\u001b[1;33m\u001b[0m\u001b[1;33m\u001b[0m\u001b[0m\n\u001b[1;32m----> 2\u001b[1;33m \u001b[0mc\u001b[0m \u001b[1;33m=\u001b[0m \u001b[0ma\u001b[0m \u001b[1;33m+\u001b[0m \u001b[0mb\u001b[0m\u001b[1;33m\u001b[0m\u001b[1;33m\u001b[0m\u001b[0m\n\u001b[0m\u001b[0;32m      3\u001b[0m \u001b[1;31m# The arrays are the same size but not the same shape\u001b[0m\u001b[1;33m\u001b[0m\u001b[1;33m\u001b[0m\u001b[1;33m\u001b[0m\u001b[0m\n",
      "\u001b[1;31mValueError\u001b[0m: operands could not be broadcast together with shapes (2,3,5) (5,2,3) "
     ]
    }
   ],
   "source": [
    "# your answer here\n",
    "c = a + b\n",
    "# The arrays are the same size but not the same shape"
   ]
  },
  {
   "cell_type": "markdown",
   "metadata": {},
   "source": [
    "#### 9. Transpose *b* so that it has the same structure of *a* (i.e. become a 2x3x5 array). Assign the transposed array to variable *c*."
   ]
  },
  {
   "cell_type": "code",
   "execution_count": 22,
   "metadata": {},
   "outputs": [
    {
     "name": "stdout",
     "output_type": "stream",
     "text": [
      "[[[1. 1. 1. 1. 1.]\n",
      "  [1. 1. 1. 1. 1.]\n",
      "  [1. 1. 1. 1. 1.]]\n",
      "\n",
      " [[1. 1. 1. 1. 1.]\n",
      "  [1. 1. 1. 1. 1.]\n",
      "  [1. 1. 1. 1. 1.]]]\n"
     ]
    },
    {
     "data": {
      "text/plain": [
       "(2, 3, 5)"
      ]
     },
     "execution_count": 22,
     "metadata": {},
     "output_type": "execute_result"
    }
   ],
   "source": [
    "# your code here\n",
    "# For some reason I missed the transpose function so now you have two methods to look at. Aren't you lucky. \n",
    "c = np.empty((2,3,5))\n",
    "for i in range(len(b)):\n",
    "    for j in range(len(b[i])):\n",
    "        for k in range(len(b[i,j])):\n",
    "            c[j,k,i] = b[i,j,k]\n",
    "print(c)\n",
    "\n",
    "c = np.transpose(b,(1,2,0))\n",
    "c.shape"
   ]
  },
  {
   "cell_type": "markdown",
   "metadata": {},
   "source": [
    "#### 10. Try to add *a* and *c*. Now it should work. Assign the sum to variable *d*. But why does it work now?"
   ]
  },
  {
   "cell_type": "code",
   "execution_count": 37,
   "metadata": {},
   "outputs": [
    {
     "name": "stdout",
     "output_type": "stream",
     "text": [
      "[[[1.22556275 1.34098311 1.92019371 1.1925663  1.00774511]\n",
      "  [1.31339516 1.89433166 1.61809669 1.93542269 1.25153264]\n",
      "  [1.77959341 1.17525901 1.43602112 1.76868672 1.45774682]]\n",
      "\n",
      " [[1.99175471 1.38077442 1.40587927 1.62090379 1.46580209]\n",
      "  [1.66400916 1.0312072  1.65624004 1.79143411 1.16234676]\n",
      "  [1.05138468 1.64736371 1.28024343 1.80359866 1.18485594]]]\n"
     ]
    }
   ],
   "source": [
    "# your code/answer here\n",
    "d = c + a\n",
    "print(d)"
   ]
  },
  {
   "cell_type": "markdown",
   "metadata": {},
   "source": [
    "#### 11. Print *a* and *d*. Notice the difference and relation of the two array in terms of the values? Explain."
   ]
  },
  {
   "cell_type": "code",
   "execution_count": 24,
   "metadata": {},
   "outputs": [
    {
     "name": "stdout",
     "output_type": "stream",
     "text": [
      "[[[0.22556275 0.34098311 0.92019371 0.1925663  0.00774511]\n",
      "  [0.31339516 0.89433166 0.61809669 0.93542269 0.25153264]\n",
      "  [0.77959341 0.17525901 0.43602112 0.76868672 0.45774682]]\n",
      "\n",
      " [[0.99175471 0.38077442 0.40587927 0.62090379 0.46580209]\n",
      "  [0.66400916 0.0312072  0.65624004 0.79143411 0.16234676]\n",
      "  [0.05138468 0.64736371 0.28024343 0.80359866 0.18485594]]]\n",
      "\n",
      "\n",
      "[[[1.22556275 1.34098311 1.92019371 1.1925663  1.00774511]\n",
      "  [1.31339516 1.89433166 1.61809669 1.93542269 1.25153264]\n",
      "  [1.77959341 1.17525901 1.43602112 1.76868672 1.45774682]]\n",
      "\n",
      " [[1.99175471 1.38077442 1.40587927 1.62090379 1.46580209]\n",
      "  [1.66400916 1.0312072  1.65624004 1.79143411 1.16234676]\n",
      "  [1.05138468 1.64736371 1.28024343 1.80359866 1.18485594]]]\n"
     ]
    }
   ],
   "source": [
    "# your code/answer here\n",
    "print(a)\n",
    "print(\"\\n\")\n",
    "print(d)\n",
    "\n",
    "# Values in d are 1 higher than a. This is because d is the sum of a and c. C was entirely filled with 1s. "
   ]
  },
  {
   "cell_type": "markdown",
   "metadata": {},
   "source": [
    "#### 12. Multiply *a* and *c*. Assign the result to *e*."
   ]
  },
  {
   "cell_type": "code",
   "execution_count": 25,
   "metadata": {},
   "outputs": [],
   "source": [
    "# your code here\n",
    "e = a*c "
   ]
  },
  {
   "cell_type": "markdown",
   "metadata": {},
   "source": [
    "#### 13. Does *e* equal to *a*? Why or why not?\n"
   ]
  },
  {
   "cell_type": "code",
   "execution_count": 26,
   "metadata": {},
   "outputs": [
    {
     "data": {
      "text/plain": [
       "array([[[ True,  True,  True,  True,  True],\n",
       "        [ True,  True,  True,  True,  True],\n",
       "        [ True,  True,  True,  True,  True]],\n",
       "\n",
       "       [[ True,  True,  True,  True,  True],\n",
       "        [ True,  True,  True,  True,  True],\n",
       "        [ True,  True,  True,  True,  True]]])"
      ]
     },
     "execution_count": 26,
     "metadata": {},
     "output_type": "execute_result"
    }
   ],
   "source": [
    "# your code/answer here\n",
    "a == e\n",
    "# Yes. Multiplication by 1 gives the same result. "
   ]
  },
  {
   "cell_type": "markdown",
   "metadata": {},
   "source": [
    "#### 14. Identify the max, min, and mean values in *d*. Assign those values to variables *d_max*, *d_min* and *d_mean*."
   ]
  },
  {
   "cell_type": "code",
   "execution_count": 27,
   "metadata": {},
   "outputs": [
    {
     "name": "stdout",
     "output_type": "stream",
     "text": [
      "Max: 1.991754708306134 \n",
      "Min: 1.007745105970314 \n",
      "Mean: 1.4818311617843702\n"
     ]
    }
   ],
   "source": [
    "# your code here\n",
    "d_max = np.max(d)\n",
    "d_min = np.min(d)\n",
    "d_mean = np.mean(d)\n",
    "print(\"Max:\", d_max, \"\\nMin:\", d_min, \"\\nMean:\", d_mean)"
   ]
  },
  {
   "cell_type": "markdown",
   "metadata": {},
   "source": [
    "#### 15. Now we want to label the values in *d*. First create an empty array *f* with the same shape (i.e. 2x3x5) as *d* using `np.empty`.\n"
   ]
  },
  {
   "cell_type": "code",
   "execution_count": 34,
   "metadata": {},
   "outputs": [
    {
     "name": "stdout",
     "output_type": "stream",
     "text": [
      "[[[0. 0. 0. 0. 0.]\n",
      "  [0. 0. 0. 0. 0.]\n",
      "  [0. 0. 0. 0. 0.]]\n",
      "\n",
      " [[0. 0. 0. 0. 0.]\n",
      "  [0. 0. 0. 0. 0.]\n",
      "  [0. 0. 0. 0. 0.]]]\n"
     ]
    }
   ],
   "source": [
    "# your code here\n",
    "f = np.zeros((2,3,5))\n",
    "print(f)"
   ]
  },
  {
   "cell_type": "markdown",
   "metadata": {},
   "source": [
    "#### 16. Populate the values in *f*. \n",
    "\n",
    "For each value in *d*, if it's larger than *d_min* but smaller than *d_mean*, assign 25 to the corresponding value in *f*. If a value in *d* is larger than *d_mean* but smaller than *d_max*, assign 75 to the corresponding value in *f*. If a value equals to *d_mean*, assign 50 to the corresponding value in *f*. Assign 0 to the corresponding value(s) in *f* for *d_min* in *d*. Assign 100 to the corresponding value(s) in *f* for *d_max* in *d*. In the end, f should have only the following values: 0, 25, 50, 75, and 100.\n",
    "\n",
    "**Note**: you don't have to use Numpy in this question."
   ]
  },
  {
   "cell_type": "code",
   "execution_count": 53,
   "metadata": {},
   "outputs": [
    {
     "name": "stdout",
     "output_type": "stream",
     "text": [
      "[[[ 25.  25.  75.  25.   0.]\n",
      "  [ 25.  75.  75.  75.  25.]\n",
      "  [ 75.  25.  25.  75.  25.]]\n",
      "\n",
      " [[100.  25.  25.  75.  25.]\n",
      "  [ 75.  25.  75.  75.  25.]\n",
      "  [ 25.  75.  25.  75.  25.]]] \n",
      "\n",
      "[[[ 25.  25.  75.  25.   0.]\n",
      "  [ 25.  75.  75.  75.  25.]\n",
      "  [ 75.  25.  25.  75.  25.]]\n",
      "\n",
      " [[100.  25.  25.  75.  25.]\n",
      "  [ 75.  25.  75.  75.  25.]\n",
      "  [ 25.  75.  25.  75.  25.]]]\n"
     ]
    }
   ],
   "source": [
    "# your code here\n",
    "# Someone told me there was an easier way after I already finished so again, I have two solutions for these parts. \n",
    "for i in range(len(d)):\n",
    "    for j in range(len(d[i])):\n",
    "        for k in range(len(d[i,j])):\n",
    "            if d[i,j,k] < d_mean:\n",
    "                if d[i,j,k] == d_min:\n",
    "                    f[i,j,k] = 0\n",
    "                else:\n",
    "                    f[i,j,k] = 25\n",
    "            elif d[i,j,k] > d_mean:\n",
    "                if d[i,j,k] == d_max:\n",
    "                    f[i,j,k] = 100\n",
    "                else:\n",
    "                    f[i,j,k] = 75\n",
    "            else:\n",
    "                f[i,j,k]=50\n",
    "                \n",
    "print(f, \"\\n\")\n",
    "\n",
    "f[d > d_mean] = 75\n",
    "f[d < d_mean] = 25\n",
    "f[d == d_mean] = 50\n",
    "f[d == d_min] = 0\n",
    "f[d == d_max] = 100\n",
    "\n",
    "print(f)"
   ]
  },
  {
   "cell_type": "markdown",
   "metadata": {},
   "source": [
    "#### 17. Print *d* and *f*. Do you have your expected *f*?\n",
    "For instance, if your *d* is:\n",
    "```python\n",
    "[[[1.85836099, 1.67064465, 1.62576044, 1.40243961, 1.88454931],\n",
    "[1.75354326, 1.69403643, 1.36729252, 1.61415071, 1.12104981],\n",
    "[1.72201435, 1.1862918 , 1.87078449, 1.7726778 , 1.88180042]],\n",
    "[[1.44747908, 1.31673383, 1.02000951, 1.52218947, 1.97066381],\n",
    "[1.79129243, 1.74983003, 1.96028037, 1.85166831, 1.65450881],\n",
    "[1.18068344, 1.9587381 , 1.00656599, 1.93402165, 1.73514584]]]\n",
    "```\n",
    "Your *f* should be:\n",
    "```python\n",
    "[[[ 75.,  75.,  75.,  25.,  75.],\n",
    "[ 75.,  75.,  25.,  25.,  25.],\n",
    "[ 75.,  25.,  75.,  75.,  75.]],\n",
    "[[ 25.,  25.,  25.,  25., 100.],\n",
    "[ 75.,  75.,  75.,  75.,  75.],\n",
    "[ 25.,  75.,   0.,  75.,  75.]]]\n",
    "```"
   ]
  },
  {
   "cell_type": "code",
   "execution_count": 43,
   "metadata": {},
   "outputs": [
    {
     "name": "stdout",
     "output_type": "stream",
     "text": [
      "[[[1.22556275 1.34098311 1.92019371 1.1925663  1.00774511]\n",
      "  [1.31339516 1.89433166 1.61809669 1.93542269 1.25153264]\n",
      "  [1.77959341 1.17525901 1.43602112 1.76868672 1.45774682]]\n",
      "\n",
      " [[1.99175471 1.38077442 1.40587927 1.62090379 1.46580209]\n",
      "  [1.66400916 1.0312072  1.65624004 1.79143411 1.16234676]\n",
      "  [1.05138468 1.64736371 1.28024343 1.80359866 1.18485594]]]\n",
      "\n",
      "\n",
      "[[[ 25.  25.  75.  25.   0.]\n",
      "  [ 25.  75.  75.  75.  25.]\n",
      "  [ 75.  25.  25.  75.  25.]]\n",
      "\n",
      " [[100.  25.  25.  75.  25.]\n",
      "  [ 75.  25.  75.  75.  25.]\n",
      "  [ 25.  75.  25.  75.  25.]]]\n"
     ]
    }
   ],
   "source": [
    "# your code here\n",
    "print(d)\n",
    "print(\"\\n\")\n",
    "print(f)"
   ]
  },
  {
   "cell_type": "markdown",
   "metadata": {},
   "source": [
    "#### 18. Bonus question: instead of using numbers (i.e. 0, 25, 50, 75, and 100), use string values  (\"A\", \"B\", \"C\", \"D\", and \"E\") to label the array elements. For the example above, the expected result is:\n",
    "\n",
    "```python\n",
    "[[[ 'D',  'D',  'D',  'B',  'D'],\n",
    "[ 'D',  'D',  'B',  'B',  'B'],\n",
    "[ 'D',  'B',  'D',  'D',  'D']],\n",
    "[[ 'B',  'B',  'B',  'B',  'E'],\n",
    "[ 'D',  'D',  'D',  'D',  'D'],\n",
    "[ 'B',  'D',   'A',  'D', 'D']]]\n",
    "```\n",
    "**Note**: you don't have to use Numpy in this question."
   ]
  },
  {
   "cell_type": "code",
   "execution_count": 45,
   "metadata": {},
   "outputs": [
    {
     "name": "stdout",
     "output_type": "stream",
     "text": [
      "[[['B' 'B' 'D' 'B' 'A']\n",
      "  ['B' 'D' 'D' 'D' 'B']\n",
      "  ['D' 'B' 'B' 'D' 'B']]\n",
      "\n",
      " [['E' 'B' 'B' 'D' 'B']\n",
      "  ['D' 'B' 'D' 'D' 'B']\n",
      "  ['B' 'D' 'B' 'D' 'B']]] \n",
      "\n",
      "[[['B' 'B' 'D' 'B' 'A']\n",
      "  ['B' 'D' 'D' 'D' 'B']\n",
      "  ['D' 'B' 'B' 'D' 'B']]\n",
      "\n",
      " [['E' 'B' 'B' 'D' 'B']\n",
      "  ['D' 'B' 'D' 'D' 'B']\n",
      "  ['B' 'D' 'B' 'D' 'B']]]\n"
     ]
    }
   ],
   "source": [
    "# your code here\n",
    "g = np.empty((2,3,5), dtype=str)\n",
    "for i in range(len(d)):\n",
    "    for j in range(len(d[i])):\n",
    "        for k in range(len(d[i,j])):\n",
    "            if d[i,j,k] < d_mean:\n",
    "                if d[i,j,k] == d_min:\n",
    "                    g[i,j,k] = \"A\"\n",
    "                else:\n",
    "                    g[i,j,k] = \"B\"\n",
    "            elif d[i,j,k] > d_mean:\n",
    "                if d[i,j,k] == d_max:\n",
    "                    g[i,j,k] = \"E\"\n",
    "                else:\n",
    "                    g[i,j,k] = \"D\"\n",
    "            else:\n",
    "                g[i,j,k]=\"C\"\n",
    "                \n",
    "print(g, \"\\n\")\n",
    "\n",
    "g[d > d_mean] = \"D\"\n",
    "g[d < d_mean] = \"B\"\n",
    "g[d == d_mean] = \"C\"\n",
    "g[d == d_min] = \"A\"\n",
    "g[d == d_max] = \"E\"\n",
    "\n",
    "print(g)"
   ]
  },
  {
   "cell_type": "code",
   "execution_count": null,
   "metadata": {},
   "outputs": [],
   "source": []
  }
 ],
 "metadata": {
  "kernelspec": {
   "display_name": "Python 3",
   "language": "python",
   "name": "python3"
  },
  "language_info": {
   "codemirror_mode": {
    "name": "ipython",
    "version": 3
   },
   "file_extension": ".py",
   "mimetype": "text/x-python",
   "name": "python",
   "nbconvert_exporter": "python",
   "pygments_lexer": "ipython3",
   "version": "3.7.6"
  }
 },
 "nbformat": 4,
 "nbformat_minor": 2
}
