{
 "cells": [
  {
   "cell_type": "code",
   "execution_count": 5,
   "metadata": {},
   "outputs": [
    {
     "name": "stdout",
     "output_type": "stream",
     "text": [
      "Welcome to Mastermind Solver\n",
      "Please enter all guesses taken so far, one at a time in the following format:\n",
      "cccc bw\n",
      "where c is an integer representing a pin colour and b and w are integers representing the number of pins\n",
      "of their respective colours with a space separating the groups.\n",
      "once all guesses have been entered, type \"OK\". To remove the previous guess, type \"r\".\n",
      "grgerg\n",
      "Check input format\n",
      "1234 45\n"
     ]
    }
   ],
   "source": [
    "from IPython.display import clear_output\n",
    "\n",
    "\n",
    "def Input_Data():\n",
    "    completed_guesses = {}\n",
    "    clear_output()\n",
    "    print(\"Welcome to Mastermind Solver\")\n",
    "    print(\"Please enter all guesses taken so far, one at a time in the following format:\")\n",
    "    print(\"cccc bw\")\n",
    "    print(\"where c is an integer representing a pin colour and b and w are integers representing the number of pins\")\n",
    "    print(\"of their respective colours with a space separating the groups.\")\n",
    "    print('once all guesses have been entered, type \"OK\". To remove the previous guess, type \"r\".')\n",
    "    while True:\n",
    "        a = input()\n",
    "        if (a.lower == \"ok\" or a.lower == \"r\"):\n",
    "            break\n",
    "        if len(a) != 7:\n",
    "            print(\"Check input format\")\n",
    "            continue\n",
    "        for i in range(7):\n",
    "            if (i == 4 and a[i] != \" \"):\n",
    "                continue\n",
    "            else:\n",
    "                try:\n",
    "                    if int(a[i]) > 5:\n",
    "                        print(\"Pin value out of range\")\n",
    "                        continue\n",
    "                except ValueError:\n",
    "                    print(\"Check input format\")\n",
    "                    continue\n",
    "        if (a[5] > 3 or int(a[5]) + int(a[6]) > 4):\n",
    "            print(\"Black or white pins incorrect\")\n",
    "            continue\n",
    "        # Needs logic here to convert input into dictionary\n",
    "        break\n",
    "    return \n",
    "\n",
    "\n",
    "def create_possible_codes(results):\n",
    "    \n",
    "    return possible_codes\n",
    "\n",
    "\n",
    "def create_pins(guess, code):\n",
    "    # Function to calculate number of black pins and white pins\n",
    "    guess2 = guess.copy()\n",
    "    code2 = code.copy()\n",
    "    black_pins = 0\n",
    "    white_pins = 0\n",
    "    # Find number of black pins. When match found, change values to -ve numbers to ensure this is not found for white pins\n",
    "    for i in range(len(code2)):\n",
    "        if guess2[i] == code2[i]:\n",
    "            black_pins += 1\n",
    "            player_input2[i] = -1\n",
    "            code2[i] = -2\n",
    "    for i in range(len(guess2)):\n",
    "        for j in range(len(code2)):\n",
    "            if guess2[i] == code2[j]:\n",
    "                white_pins += 1\n",
    "                guess2[i] = -1\n",
    "                code2[j] = -2\n",
    "    return black_pins, white_pins\n",
    "\n",
    "\n",
    "def Mastermind_Solver():\n",
    "    current_guesses = Input_Data()\n",
    "    \n",
    "    return\n",
    "\n",
    "Mastermind_Solver()"
   ]
  },
  {
   "cell_type": "code",
   "execution_count": null,
   "metadata": {},
   "outputs": [],
   "source": []
  }
 ],
 "metadata": {
  "kernelspec": {
   "display_name": "Python 3",
   "language": "python",
   "name": "python3"
  },
  "language_info": {
   "codemirror_mode": {
    "name": "ipython",
    "version": 3
   },
   "file_extension": ".py",
   "mimetype": "text/x-python",
   "name": "python",
   "nbconvert_exporter": "python",
   "pygments_lexer": "ipython3",
   "version": "3.7.6"
  }
 },
 "nbformat": 4,
 "nbformat_minor": 4
}
