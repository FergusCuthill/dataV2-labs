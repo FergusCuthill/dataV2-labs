{
 "cells": [
  {
   "cell_type": "code",
   "execution_count": 1,
   "metadata": {},
   "outputs": [],
   "source": [
    "# This notebook is for all the processes of importing the data, formatting it and saving it to SQL\n",
    "import pandas as pd\n",
    "import re\n",
    "import os\n",
    "import pymysql\n",
    "from sqlalchemy import create_engine"
   ]
  },
  {
   "cell_type": "code",
   "execution_count": 2,
   "metadata": {},
   "outputs": [],
   "source": [
    "# Set up SQL engine\n",
    "cred = os.environ.get('SQL')\n",
    "engine = create_engine('mysql+pymysql://'+cred+'@localhost/books_project')"
   ]
  },
  {
   "cell_type": "code",
   "execution_count": null,
   "metadata": {},
   "outputs": [],
   "source": [
    "# Process Amazon 32 dataset\n",
    "amazon32 = pd.read_csv(\"C:/Users/fergu/Documents/Work/Ironhack/Projects/Project 1/01_Data Sources/Amazon 32C.csv\", names = [\"ISBN_10\", \"Image\", \"Image link\", \"Title\", \"Author\", \"Num Genre\", \"Genre\"])\n",
    "# Some preceding 0s lost in dataset. Added back in. \n",
    "amazon32[\"ISBN_10\"] = amazon32[\"ISBN_10\"].apply(lambda x: x.zfill(10))\n",
    "# Check that the fixed ISBNs match those in the image names\n",
    "amazon32[amazon32[\"ISBN_10\"].astype(str) + \".jpg\" != amazon32[\"Image\"]]\n",
    "# Save to SQL database\n",
    "amazon32.to_sql(\"amazon32\", con=engine)\n"
   ]
  },
  {
   "cell_type": "code",
   "execution_count": 26,
   "metadata": {},
   "outputs": [],
   "source": [
    "amazon_rat = pd.read_csv(\"C:/Users/fergu/Documents/Work/Ironhack/Projects/Project 1/01_Data Sources/Amazon Ratings.csv\")\n",
    "amazon_rat[\"amazon_isbn-10\"] = amazon_rat[\"amazon_isbn-10\"].astype(str).apply(lambda x: x.zfill(10))\n",
    "amazon_rat.to_sql(\"amazon_rat\", con=engine)"
   ]
  },
  {
   "cell_type": "code",
   "execution_count": 38,
   "metadata": {},
   "outputs": [],
   "source": [
    "bx_books = pd.read_csv(\"C:/Users/fergu/Documents/Work/Ironhack/Projects/Project 1/01_Data Sources/BX-Books.csv\", sep=\";\",error_bad_lines=False, encoding = \"latin_1\", \n",
    "                       usecols=[\"ISBN\", \"Book-Title\", \"Book-Author\", \"Year-Of-Publication\", \"Publisher\"])\n",
    "bx_book_r = pd.read_csv(\"C:/Users/fergu/Documents/Work/Ironhack/Projects/Project 1/01_Data Sources/BX-Book-Ratings.csv\",sep=\";\",error_bad_lines=False, encoding = \"latin_1\")\n",
    "bx_books.to_sql(\"bx_books\", con=engine)\n",
    "bx_book_r.to_sql(\"bx_book_r\", con=engine)"
   ]
  },
  {
   "cell_type": "code",
   "execution_count": 41,
   "metadata": {},
   "outputs": [],
   "source": [
    "flipkart_rat = pd.read_csv(\"C:/Users/fergu/Documents/Work/Ironhack/Projects/Project 1/01_Data Sources/Flipkart Ratings.csv\")\n",
    "flipkart_rat.to_sql(\"flipkart_rat\", con=engine)"
   ]
  },
  {
   "cell_type": "code",
   "execution_count": 53,
   "metadata": {},
   "outputs": [],
   "source": [
    "gr_books_10k = pd.read_csv(\"C:/Users/fergu/Documents/Work/Ironhack/Projects/Project 1/01_Data Sources/GR Books 10k.csv\")\n",
    "gr_books_10k.drop([\"image_url\", \"small_image_url\"], axis=1, inplace=True)\n",
    "gr_books_10k[\"isbn\"] = gr_books_10k[\"isbn\"].astype(str).apply(lambda x: x.zfill(10))\n",
    "gr_books_10k[\"isbn13\"] = gr_books_10k[\"isbn13\"].astype(str).apply(lambda x: x.zfill(13))\n",
    "gr_books_10k.to_sql(\"gr_books_10k\", con=engine)"
   ]
  },
  {
   "cell_type": "code",
   "execution_count": 56,
   "metadata": {},
   "outputs": [
    {
     "name": "stderr",
     "output_type": "stream",
     "text": [
      "b'Skipping line 3350: expected 12 fields, saw 13\\nSkipping line 4704: expected 12 fields, saw 13\\nSkipping line 5879: expected 12 fields, saw 13\\nSkipping line 8981: expected 12 fields, saw 13\\n'\n"
     ]
    }
   ],
   "source": [
    "gr_books_k = pd.read_csv(\"C:/Users/fergu/Documents/Work/Ironhack/Projects/Project 1/01_Data Sources/GR Books K.csv\",error_bad_lines=False)\n",
    "gr_books_k[\"isbn\"] = gr_books_k[\"isbn\"].astype(str).apply(lambda x: x.zfill(10))\n",
    "gr_books_k[\"isbn13\"] = gr_books_k[\"isbn13\"].astype(str).apply(lambda x: x.zfill(13))\n",
    "gr_books_k.to_sql(\"gr_books_k\", con=engine)"
   ]
  },
  {
   "cell_type": "code",
   "execution_count": null,
   "metadata": {},
   "outputs": [],
   "source": []
  }
 ],
 "metadata": {
  "kernelspec": {
   "display_name": "Python 3",
   "language": "python",
   "name": "python3"
  },
  "language_info": {
   "codemirror_mode": {
    "name": "ipython",
    "version": 3
   },
   "file_extension": ".py",
   "mimetype": "text/x-python",
   "name": "python",
   "nbconvert_exporter": "python",
   "pygments_lexer": "ipython3",
   "version": "3.7.6"
  }
 },
 "nbformat": 4,
 "nbformat_minor": 4
}
